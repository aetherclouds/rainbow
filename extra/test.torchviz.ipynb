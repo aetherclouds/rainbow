{
 "cells": [
  {
   "cell_type": "code",
   "execution_count": 2,
   "metadata": {},
   "outputs": [
    {
     "name": "stdout",
     "output_type": "stream",
     "text": [
      "torch.Size([2])\n"
     ]
    },
    {
     "ename": "IndexError",
     "evalue": "Dimension out of range (expected to be in range of [-1, 0], but got 1)",
     "output_type": "error",
     "traceback": [
      "\u001b[1;31m---------------------------------------------------------------------------\u001b[0m",
      "\u001b[1;31mIndexError\u001b[0m                                Traceback (most recent call last)",
      "Cell \u001b[1;32mIn[2], line 6\u001b[0m\n\u001b[0;32m      4\u001b[0m y\u001b[39m=\u001b[39m\u001b[39m2\u001b[39m\u001b[39m*\u001b[39mx\n\u001b[0;32m      5\u001b[0m \u001b[39mprint\u001b[39m(x\u001b[39m.\u001b[39mshape)\n\u001b[1;32m----> 6\u001b[0m z\u001b[39m=\u001b[39m(\u001b[39m3\u001b[39m\u001b[39m+\u001b[39mx)\u001b[39m-\u001b[39mx\u001b[39m.\u001b[39;49mmean(\u001b[39m1\u001b[39;49m)\n\u001b[0;32m      7\u001b[0m r\u001b[39m=\u001b[39m(y\u001b[39m+\u001b[39mz)\u001b[39m.\u001b[39msum()\n\u001b[0;32m      8\u001b[0m make_dot(r)\n",
      "\u001b[1;31mIndexError\u001b[0m: Dimension out of range (expected to be in range of [-1, 0], but got 1)"
     ]
    }
   ],
   "source": [
    "import torch\n",
    "from torchviz import make_dot\n",
    "x=torch.ones(2, requires_grad=True)\n",
    "y=2*x\n",
    "print(x.shape)\n",
    "z=(3+x)-x.mean()\n",
    "r=(y+z).sum()\n",
    "make_dot(r)"
   ]
  }
 ],
 "metadata": {
  "kernelspec": {
   "display_name": "Python 3",
   "language": "python",
   "name": "python3"
  },
  "language_info": {
   "codemirror_mode": {
    "name": "ipython",
    "version": 3
   },
   "file_extension": ".py",
   "mimetype": "text/x-python",
   "name": "python",
   "nbconvert_exporter": "python",
   "pygments_lexer": "ipython3",
   "version": "3.11.3"
  },
  "orig_nbformat": 4
 },
 "nbformat": 4,
 "nbformat_minor": 2
}
