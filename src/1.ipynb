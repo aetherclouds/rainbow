{
 "cells": [
  {
   "cell_type": "code",
   "execution_count": 1,
   "metadata": {},
   "outputs": [],
   "source": [
    "import gymnasium as gym\n",
    "import torch\n",
    "import torch.nn as nn\n",
    "import numpy as np\n",
    "import random"
   ]
  },
  {
   "cell_type": "code",
   "execution_count": null,
   "metadata": {},
   "outputs": [],
   "source": [
    "class ReplayMemory:\n",
    "    # obs_size = state/observable space size\n",
    "    def __init__(self, max_size: int, obs_size: int, batch_size:int=32):\n",
    "        # apparently, np takes in (y, x) so we have to order the sizes like so\n",
    "        self.state_buf = np.zeros((obs_size, max_size), dtype=np.float32)\n",
    "        # different from pytorch's dqn tutorial, we don't store all actions but rather only the one we take\n",
    "        self.action_buf = np.zeros(max_size, dtype=np.float32)\n",
    "        self.reward_buf = np.zeros(max_size, dtype=np.float32)\n",
    "        self.ns_buf = np.zeros((obs_size, max_size), dtype=np.float32)\n",
    "        # this will serve as a mask later\n",
    "        self.done_buf = np.zeros(max_size, dtype=np.bool)\n",
    "\n",
    "        self.max_size, self.batch_size = max_size, batch_size\n",
    "        \n",
    "        self.ptr, self.size = 0, 0\n",
    "\n",
    "    def push(state, action, reward, ns):\n",
    "        self.state_buf.append(state)\n",
    "        self.reward_buf.append(reward)\n",
    "        self.action_buf.append(action)\n",
    "        self.ns_buf.append(ns)\n",
    "        \n",
    "        self.ptr = self.ptr + 1 % self.max_size\n",
    "        self.size = min(self.size + 1, self.max_size)\n",
    "    \n",
    "    def sample(self):\n",
    "        idx = random.randint(0, self.size)\n",
    "        return dict(\n",
    "            state=self.state_buf[idx],\n",
    "            action=self.action_buf[idx],\n",
    "            reward=self.reward_buf[idx],\n",
    "            ns=self.ns_buf[idx],\n",
    "        )"
   ]
  },
  {
   "cell_type": "code",
   "execution_count": null,
   "metadata": {},
   "outputs": [],
   "source": [
    "class Network(nn.Module):\n",
    "    def __init__(\n",
    "        self,\n",
    "        in_size,\n",
    "        out_size\n",
    "    ):\n",
    "        self.layers = nn.Sequential(\n",
    "            nn.Linear(in_size, 128),\n",
    "            nn.ReLU(),\n",
    "            nn.Linear(128, 128),\n",
    "            nn.ReLU(),\n",
    "            nn.Linear(128, out_size)\n",
    "        )\n",
    "    \n",
    "    def forward(x):\n",
    "        return self.layers(x)"
   ]
  },
  {
   "cell_type": "code",
   "execution_count": null,
   "metadata": {},
   "outputs": [],
   "source": [
    "class DQNAgent:\n",
    "    def __init__(self,\n",
    "        env: gym.Env\n",
    "    ):\n",
    "        self.env = env\n",
    "\n",
    "        obs_size = env.observation_space.shape[0]\n",
    "        # different from obs_size, we use Discrete, not Box -> https://www.gymlibrary.dev/api/spaces/#discrete\n",
    "        action_size = env.action_space.n\n",
    "        self.nn = Network(obs_size, action_size)\n"
   ]
  }
 ],
 "metadata": {
  "kernelspec": {
   "display_name": "Python 3",
   "language": "python",
   "name": "python3"
  },
  "language_info": {
   "codemirror_mode": {
    "name": "ipython",
    "version": 3
   },
   "file_extension": ".py",
   "mimetype": "text/x-python",
   "name": "python",
   "nbconvert_exporter": "python",
   "pygments_lexer": "ipython3",
   "version": "3.11.3"
  },
  "orig_nbformat": 4
 },
 "nbformat": 4,
 "nbformat_minor": 2
}
