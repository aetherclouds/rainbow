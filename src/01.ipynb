{
 "cells": [
  {
   "cell_type": "code",
   "execution_count": 114,
   "metadata": {},
   "outputs": [],
   "source": [
    "import gymnasium as gym\n",
    "import torch\n",
    "import torch.optim as optim\n",
    "import torch.nn as nn\n",
    "import torch.nn.functional as F\n",
    "import numpy as np\n",
    "import random\n",
    "import matplotlib.pyplot as plt\n",
    "from IPython.display import clear_output\n",
    "\n",
    "from gymnasium.wrappers.record_video import RecordVideo\n",
    "\n",
    "from typing import Dict, List, Tuple"
   ]
  },
  {
   "cell_type": "code",
   "execution_count": 115,
   "metadata": {},
   "outputs": [
    {
     "data": {
      "text/plain": [
       "<contextlib.ExitStack at 0x10a70df2510>"
      ]
     },
     "execution_count": 115,
     "metadata": {},
     "output_type": "execute_result"
    }
   ],
   "source": [
    "plt.ion()"
   ]
  },
  {
   "cell_type": "code",
   "execution_count": 116,
   "metadata": {},
   "outputs": [],
   "source": [
    "'''\n",
    "we use this because, otherwise, there would be a high correlation between memories, thus a higher likelihood that we'd select the same few memories,\n",
    "then leading to some form of over-fitting.\n",
    "remember that, in Q-learning, we update a guess with a guess. If we selected states that are too \"near\" each other, it'd be very likely that the update\n",
    "to Q(s, a) would directly or indirectly alter that of Q(s', a').\n",
    "'''\n",
    "class ReplayBuffer:\n",
    "    # obs_size = state/observable space size\n",
    "    def __init__(self, max_size: int, obs_size: int, batch_size:int=32):\n",
    "        self.state_buf = np.zeros((max_size, obs_size), dtype=np.float32)\n",
    "        # different from pytorch's dqn tutorial, we don't store all actions but rather only the one we take\n",
    "        self.action_buf = np.zeros(max_size, dtype=np.float32)\n",
    "        self.reward_buf = np.zeros(max_size, dtype=np.float32)\n",
    "        self.ns_buf = np.zeros((max_size, obs_size), dtype=np.float32)\n",
    "        # this will serve as a mask later\n",
    "        # we use integers because numpy's syntax enables you to assign booleans and they\n",
    "        # get converted to the dtype\n",
    "        self.done_buf = np.zeros(max_size, dtype=np.float32)\n",
    "\n",
    "        self.max_size, self.batch_size = max_size, batch_size\n",
    "        self.ptr, self.size = 0, 0\n",
    "\n",
    "    def push(self, \n",
    "        state: np.ndarray, \n",
    "        action: int, \n",
    "        reward: float, \n",
    "        ns: np.ndarray, \n",
    "        done: bool,\n",
    "    ):\n",
    "        idx = self.ptr\n",
    "        self.state_buf[idx] = state\n",
    "        self.action_buf[idx] = action\n",
    "        self.reward_buf[idx] = reward\n",
    "        self.ns_buf[idx] = ns\n",
    "        self.done_buf[idx] = done\n",
    "        \n",
    "        self.ptr = (idx + 1) % self.max_size\n",
    "        self.size = min(self.size + 1, self.max_size)\n",
    "    \n",
    "    def sample(self) -> Dict[str, np.ndarray]:\n",
    "        idx = random.sample(range(self.size), self.batch_size)\n",
    "        return dict(\n",
    "            state=self.state_buf[idx],\n",
    "            action=self.action_buf[idx],\n",
    "            reward=self.reward_buf[idx],\n",
    "            ns=self.ns_buf[idx],\n",
    "            done=self.done_buf[idx],\n",
    "        )\n",
    "\n",
    "    def __len__(self):\n",
    "        return self.size"
   ]
  },
  {
   "cell_type": "code",
   "execution_count": 117,
   "metadata": {},
   "outputs": [],
   "source": [
    "class Network(nn.Module):\n",
    "    def __init__(\n",
    "        self,\n",
    "        in_size,\n",
    "        out_size\n",
    "    ):\n",
    "        # super().__init__()\n",
    "        super(Network, self).__init__()\n",
    "        self.layers = nn.Sequential(\n",
    "            nn.Linear(in_size, 128),\n",
    "            nn.ReLU(),\n",
    "            nn.Linear(128, 128),\n",
    "            nn.ReLU(),\n",
    "            nn.Linear(128, out_size)\n",
    "        )\n",
    "    \n",
    "    def forward(self, x: torch.Tensor) -> torch.Tensor:\n",
    "        return self.layers(x)"
   ]
  },
  {
   "cell_type": "code",
   "execution_count": 118,
   "metadata": {},
   "outputs": [],
   "source": [
    "class DQNAgent:\n",
    "    def __init__(self,\n",
    "        env: gym.Env,\n",
    "        seed: int,\n",
    "        memory_size: int,\n",
    "        batch_size: int,\n",
    "        target_update: int,\n",
    "        eps_decay: float,\n",
    "        max_eps: float = .9,\n",
    "        min_eps: float = .1,\n",
    "        gamma: float = .99,\n",
    "    ):\n",
    "        self.env = env\n",
    "        self.seed = seed\n",
    "        self.memory_size = memory_size\n",
    "        self.batch_size = batch_size\n",
    "        self.target_update = target_update\n",
    "        self.eps_decay = eps_decay\n",
    "        self.eps = max_eps\n",
    "        self.max_eps = max_eps\n",
    "        self.min_eps = min_eps\n",
    "        self.gamma = gamma\n",
    "        obs_size = env.observation_space.shape[0]\n",
    "        # different from obs_size, we use Discrete, not Box -> https://www.gymlibrary.dev/api/spaces/#discrete\n",
    "        action_size = env.action_space.n\n",
    "\n",
    "        self.device = torch.device(\n",
    "            \"cuda\" if torch.cuda.is_available() else \"cpu\"\n",
    "        )\n",
    "        \n",
    "        self.memory = ReplayBuffer(10000, obs_size, batch_size)\n",
    "        \n",
    "        self.dqn = Network(obs_size, action_size).to(self.device)\n",
    "        self.dqn_target = Network(obs_size, action_size).to(self.device)\n",
    "        self.dqn_target.load_state_dict(self.dqn.state_dict())\n",
    "        # we're NOT going to be optimizing the target nn, so this is like a safelock\n",
    "        self.dqn_target.eval()\n",
    "\n",
    "        # in the original tutorial, LR is not initialized.. but I think we're fine?\n",
    "        # self.optimizer = optim.AdamW(self.dqn.parameters(), lr=self.lr, amsgrad=True)\n",
    "        self.optimizer = optim.AdamW(self.dqn.parameters(), amsgrad=True)\n",
    "\n",
    "        self.transition = []\n",
    "\n",
    "        self.is_test = False\n",
    "\n",
    "    def choose_action(self, state: np.ndarray) -> int:\n",
    "        if self.eps > np.random.random():\n",
    "            selected_action = self.env.action_space.sample()\n",
    "        else:\n",
    "            # selected_action = self.dqn(self.env.action_space).max(0)[1]\n",
    "            # the reason why we wrap state in a tensor is because this is how Torch.nn.Module(s) operate. This way,\n",
    "            # we can easily input a batch.\n",
    "            selected_action = self.dqn(torch.FloatTensor(state)).argmax().item()\n",
    "            # \"WTF is this??\" check: https://stackoverflow.com/a/63869655/15806103\n",
    "        if not self.is_test:\n",
    "            self.transition = [state, selected_action]\n",
    "        return selected_action\n",
    "    \n",
    "    def take_step(self, action: int) -> Tuple[np.ndarray, np.float64, bool]:\n",
    "        next_state, reward, terminated, truncated, _ = self.env.step(action)\n",
    "        \n",
    "        done = terminated or truncated\n",
    "        \n",
    "        if not self.is_test:\n",
    "            # in training, self.transition will already look like\n",
    "            # [state, action]\n",
    "            # (for ex. if we use take_action(state))\n",
    "            # so we just add to it!\n",
    "            self.transition += [reward, next_state, done]\n",
    "            self.memory.push(*self.transition)\n",
    "            \n",
    "        return next_state, reward, done\n",
    "    \n",
    "    def compute_dqn(self, samples: dict[str, np.array]):\n",
    "        \"\"\"calculate the DQN loss for a batch of memories\"\"\"\n",
    "        device = self.device\n",
    "        # each of these is a batch/samples of their corresponding name\n",
    "        state = torch.FloatTensor(samples[\"state\"], device=device)\n",
    "        ns = torch.FloatTensor(samples[\"ns\"], device=device)\n",
    "        action = torch.LongTensor(samples[\"action\"], device=device)\n",
    "        reward = torch.FloatTensor(samples[\"reward\"], device=device)\n",
    "        done = torch.FloatTensor(samples[\"done\"], device=device)\n",
    "\n",
    "        # reminder that the target DQN refers to the network that's always a little behind the actual DQN\n",
    "        # and which we use for the next_state prediction\n",
    "        curr_q_value = self.dqn(state).gather(1, action.unsqueeze(1))\n",
    "        with torch.no_grad():\n",
    "            next_q_value = self.dqn_target(ns).max(1)[0]\n",
    "        mask = 1 - done\n",
    "        target = (reward + next_q_value * self.gamma * mask).to(self.device)\n",
    "        loss = F.smooth_l1_loss(curr_q_value.squeeze(), target)\n",
    "\n",
    "        '''\n",
    "        this saved my 4SS and I would like to document how.\n",
    "        For whatever reason, I had the line:\n",
    "        85 -- `next_q_value = self.dqn_target(ns).max(1)[1]`\n",
    "        Reminder that max()[1] returns the INDEX of the max.\n",
    "        I spent an entire afternoon trying to understand why my model wasn't working,\n",
    "        and that was why.\n",
    "        And I realized it because the next_q tensor kept outputting either 0s or 1s.\n",
    "        '''\n",
    "        # print('for debugging')\n",
    "        # print('state', state[:2])\n",
    "        # print('ns', ns[:2])\n",
    "        # print('act', action[:2])\n",
    "        # print('rew', reward[:2])\n",
    "        # print('done', done[:2])\n",
    "        # print('curr_q', curr_q_value[:2])\n",
    "        # print('next_q', next_q_value[:2])\n",
    "        # print('target', target[:2])\n",
    "\n",
    "        return loss, torch.mean(curr_q_value).detach().numpy()\n",
    "        \n",
    "    def update_model(self) -> float:\n",
    "        samples = self.memory.sample()\n",
    "\n",
    "        loss, q_value = self.compute_dqn(samples)\n",
    "\n",
    "        # https://stackoverflow.com/questions/48001598/why-do-we-need-to-call-zero-grad-in-pytorch\n",
    "        # if in doubt, check comments on cartpole dqn\n",
    "        self.optimizer.zero_grad()\n",
    "        loss.backward()\n",
    "        self.optimizer.step()\n",
    "        # I think we do it for graphing purposes? answer: Yes.\n",
    "        return loss.item(), q_value\n",
    "\n",
    "    def train(self, seed: int, num_frames: int, plotting_interval: int=200):\n",
    "        try:\n",
    "            self.is_test = False\n",
    "\n",
    "            state, _ = self.env.reset(seed=seed)\n",
    "            # effective episode - n. of episodes after initial \"memory gathering\"\n",
    "            eff_episode = 0\n",
    "            score = 0\n",
    "            scores = []\n",
    "            losses = []\n",
    "            epsilons = []\n",
    "            predictions = []\n",
    "            \n",
    "            for frame_idx in range(1, num_frames+1):\n",
    "                action = self.choose_action(state)\n",
    "                next_state, reward, done = self.take_step(action)\n",
    "\n",
    "                state = next_state\n",
    "                score += reward\n",
    "\n",
    "                if done:\n",
    "                    # TODO: make gym reproducible here. problem is if we use `seed` we're always getting the same environment\n",
    "                    # a solution could be self.env.reset(seed=seed+total_episodes)\n",
    "                    state, _ = self.env.reset(seed=self.seed+frame_idx)\n",
    "                    scores.append(score)\n",
    "                    score = 0\n",
    "                # we will first let it collect a few memories,\n",
    "                # and THEN start optimizing.\n",
    "                if len(self.memory) >= self.batch_size:\n",
    "                    loss, curr_q_value = self.update_model()\n",
    "                    losses.append(loss)\n",
    "                    predictions.append(curr_q_value)\n",
    "                    eff_episode += 1\n",
    "                    # linear decay\n",
    "                    self.eps = max(self.min_eps, self.eps - (self.max_eps - self.min_eps) * self.eps_decay)\n",
    "                    epsilons.append(self.eps)\n",
    "\n",
    "                    if eff_episode % self.target_update == 0:\n",
    "                        self.target_hard_update()\n",
    "                    # I think I could use this but I want to be consistent with the material so nvm\n",
    "                    # self.eps = max(self.min_eps, self.eps - self.eps_decay)\n",
    "\n",
    "                if frame_idx % plotting_interval == 0:\n",
    "                    self._plot(frame_idx, scores, losses, epsilons, predictions)\n",
    "        except KeyboardInterrupt:\n",
    "            self.save_state()\n",
    "        else:\n",
    "            self.save_state()\n",
    "        self.env.close()\n",
    "    \n",
    "    def save_state(self, name='saved-state'):\n",
    "        torch.save(self.dqn.state_dict(), f'{name}-{self.seed}.pt')\n",
    "\n",
    "    def load_state(self, state_dict):\n",
    "        self.dqn.load_state_dict(state_dict)\n",
    "        \n",
    "    def test(self, video_folder: str):\n",
    "        self.is_test = True\n",
    "        # save current environment to swap it back later on\n",
    "        naive_env = self.env\n",
    "        \n",
    "        # self.env = RecordVideo(self.env, video_folder=video_folder, episode_trigger=lambda x:True)\n",
    "        self.env = gym.wrappers.RecordVideo(self.env, video_folder=video_folder)\n",
    "        state = self.env.reset()\n",
    "        self.env.start_video_recorder()\n",
    "        done = False\n",
    "        score = 0\n",
    "        while not done:\n",
    "            action = self.choose_action(state)\n",
    "            next_state, reward, done = self.take_step(action)\n",
    "\n",
    "            state = next_state\n",
    "            score += reward\n",
    "\n",
    "        print(\"score: \", score)\n",
    "        self.env.close()\n",
    "\n",
    "        self.env = naive_env\n",
    "\n",
    "    def target_hard_update(self):\n",
    "        self.dqn_target.load_state_dict(self.dqn.state_dict())\n",
    "\n",
    "    def _plot(self, frame_idx, scores, losses, epsilons, predictions):\n",
    "\n",
    "        clear_output(wait=True)\n",
    "        # taking a lil different path from the tutorial\n",
    "        # https://stackoverflow.com/questions/37970424/what-is-the-difference-between-drawing-plots-using-plot-axes-or-figure-in-matpl\n",
    "        # https://matplotlib.org/stable/_images/anatomy.png\n",
    "        fig, (ax1, ax2, ax3) = plt.subplots(1,3, figsize=(20, 5), num=1, clear=True)\n",
    "        ax1.set_title(f'frame {frame_idx} | score: {np.mean(scores[-10:])}')\n",
    "        ax1.plot(scores)\n",
    "        ax2.set_title('loss')\n",
    "        ax2.plot(losses)\n",
    "        # ax3.set_title('epsilons')\n",
    "        ax3.set_title('Q value')\n",
    "        ax3.plot(predictions)\n",
    "        plt.show()\n"
   ]
  },
  {
   "cell_type": "code",
   "execution_count": 119,
   "metadata": {},
   "outputs": [],
   "source": [
    "env_id = \"CartPole-v1\"\n",
    "# env = gym.make(env_id)\n",
    "env = gym.make(env_id, render_mode=\"rgb_array\")"
   ]
  },
  {
   "cell_type": "code",
   "execution_count": 120,
   "metadata": {},
   "outputs": [],
   "source": [
    "seed = 1\n",
    "\n",
    "def seed_torch(seed):\n",
    "    torch.manual_seed(seed)\n",
    "    # https://pytorch.org/docs/stable/notes/randomness.html#cuda-convolution-benchmarking\n",
    "    if torch.backends.cudnn.enabled:\n",
    "        # this will make our model run the same across multiple executions,\n",
    "        # at the cost of performance\n",
    "        torch.backends.cudnn.benchmark = False\n",
    "        torch.backends.cudnn.deterministic = True\n",
    "\n",
    "np.random.seed(seed)\n",
    "seed_torch(seed)"
   ]
  },
  {
   "cell_type": "code",
   "execution_count": 121,
   "metadata": {},
   "outputs": [],
   "source": [
    "num_frames = 30_000\n",
    "memory_size = 1_000\n",
    "batch_size = 32\n",
    "target_update = 100\n",
    "epsilon_decay = 1/2000\n",
    "\n",
    "agent = DQNAgent(env, seed, memory_size, batch_size, target_update, epsilon_decay)"
   ]
  },
  {
   "cell_type": "code",
   "execution_count": 74,
   "metadata": {},
   "outputs": [
    {
     "data": {
      "image/png": "[encoded data removed]",
      "text/plain": [
       "<Figure size 2000x500 with 3 Axes>"
      ]
     },
     "metadata": {},
     "output_type": "display_data"
    }
   ],
   "source": [
    "agent.train(seed, num_frames)"
   ]
  },
  {
   "cell_type": "code",
   "execution_count": 132,
   "metadata": {},
   "outputs": [
    {
     "name": "stdout",
     "output_type": "stream",
     "text": [
      "Moviepy - Building video d:\\projects\\programming\\py\\ai\\rainbow\\src\\videos\\rl-video-episode-8.mp4.\n",
      "Moviepy - Writing video d:\\projects\\programming\\py\\ai\\rainbow\\src\\videos\\rl-video-episode-8.mp4\n",
      "\n"
     ]
    },
    {
     "name": "stderr",
     "output_type": "stream",
     "text": [
      "                                                  \r"
     ]
    },
    {
     "name": "stdout",
     "output_type": "stream",
     "text": [
      "Moviepy - Done !\n",
      "Moviepy - video ready d:\\projects\\programming\\py\\ai\\rainbow\\src\\videos\\rl-video-episode-8.mp4\n",
      "Moviepy - Building video d:\\projects\\programming\\py\\ai\\rainbow\\src\\videos\\rl-video-episode-1.mp4.\n",
      "Moviepy - Writing video d:\\projects\\programming\\py\\ai\\rainbow\\src\\videos\\rl-video-episode-1.mp4\n",
      "\n"
     ]
    },
    {
     "name": "stderr",
     "output_type": "stream",
     "text": [
      "                                                  \r"
     ]
    },
    {
     "name": "stdout",
     "output_type": "stream",
     "text": [
      "Moviepy - Done !\n",
      "Moviepy - video ready d:\\projects\\programming\\py\\ai\\rainbow\\src\\videos\\rl-video-episode-1.mp4\n",
      "Moviepy - Building video d:\\projects\\programming\\py\\ai\\rainbow\\src\\videos\\rl-video-episode-0.mp4.\n",
      "Moviepy - Writing video d:\\projects\\programming\\py\\ai\\rainbow\\src\\videos\\rl-video-episode-0.mp4\n",
      "\n"
     ]
    },
    {
     "name": "stderr",
     "output_type": "stream",
     "text": [
      "                                                  \r"
     ]
    },
    {
     "name": "stdout",
     "output_type": "stream",
     "text": [
      "Moviepy - Done !\n",
      "Moviepy - video ready d:\\projects\\programming\\py\\ai\\rainbow\\src\\videos\\rl-video-episode-0.mp4\n",
      "Moviepy - Building video d:\\projects\\programming\\py\\ai\\rainbow\\src\\videos\\rl-video-episode-8.mp4.\n",
      "Moviepy - Writing video d:\\projects\\programming\\py\\ai\\rainbow\\src\\videos\\rl-video-episode-8.mp4\n",
      "\n"
     ]
    },
    {
     "name": "stderr",
     "output_type": "stream",
     "text": [
      "                                                            \r"
     ]
    },
    {
     "name": "stdout",
     "output_type": "stream",
     "text": [
      "Moviepy - Done !\n",
      "Moviepy - video ready d:\\projects\\programming\\py\\ai\\rainbow\\src\\videos\\rl-video-episode-8.mp4\n",
      "Moviepy - Building video d:\\projects\\programming\\py\\ai\\rainbow\\src\\videos\\rl-video-episode-8.mp4.\n",
      "Moviepy - Writing video d:\\projects\\programming\\py\\ai\\rainbow\\src\\videos\\rl-video-episode-8.mp4\n",
      "\n"
     ]
    },
    {
     "name": "stderr",
     "output_type": "stream",
     "text": [
      "                                                  \r"
     ]
    },
    {
     "name": "stdout",
     "output_type": "stream",
     "text": [
      "Moviepy - Done !\n",
      "Moviepy - video ready d:\\projects\\programming\\py\\ai\\rainbow\\src\\videos\\rl-video-episode-8.mp4\n",
      "Moviepy - Building video d:\\projects\\programming\\py\\ai\\rainbow\\src\\videos\\rl-video-episode-1.mp4.\n",
      "Moviepy - Writing video d:\\projects\\programming\\py\\ai\\rainbow\\src\\videos\\rl-video-episode-1.mp4\n",
      "\n"
     ]
    },
    {
     "name": "stderr",
     "output_type": "stream",
     "text": [
      "                                                           \r"
     ]
    },
    {
     "name": "stdout",
     "output_type": "stream",
     "text": [
      "Moviepy - Done !\n",
      "Moviepy - video ready d:\\projects\\programming\\py\\ai\\rainbow\\src\\videos\\rl-video-episode-1.mp4\n",
      "Moviepy - Building video d:\\projects\\programming\\py\\ai\\rainbow\\src\\videos\\rl-video-episode-0.mp4.\n",
      "Moviepy - Writing video d:\\projects\\programming\\py\\ai\\rainbow\\src\\videos\\rl-video-episode-0.mp4\n",
      "\n"
     ]
    },
    {
     "name": "stderr",
     "output_type": "stream",
     "text": [
      "                                                           \r"
     ]
    },
    {
     "name": "stdout",
     "output_type": "stream",
     "text": [
      "Moviepy - Done !\n",
      "Moviepy - video ready d:\\projects\\programming\\py\\ai\\rainbow\\src\\videos\\rl-video-episode-0.mp4\n",
      "score:  13.0\n"
     ]
    }
   ],
   "source": [
    "video_folder = 'videos'\n",
    "# FIXME: test episodes have really low score, even if supposedly loading saved state dict\n",
    "agent.load_state(torch.load(f'saved-state-{seed}.pt'))\n",
    "agent.test(video_folder)"
   ]
  }
 ],
 "metadata": {
  "kernelspec": {
   "display_name": "Python 3",
   "language": "python",
   "name": "python3"
  },
  "language_info": {
   "codemirror_mode": {
    "name": "ipython",
    "version": 3
   },
   "file_extension": ".py",
   "mimetype": "text/x-python",
   "name": "python",
   "nbconvert_exporter": "python",
   "pygments_lexer": "ipython3",
   "version": "3.11.3"
  },
  "orig_nbformat": 4
 },
 "nbformat": 4,
 "nbformat_minor": 2
}
